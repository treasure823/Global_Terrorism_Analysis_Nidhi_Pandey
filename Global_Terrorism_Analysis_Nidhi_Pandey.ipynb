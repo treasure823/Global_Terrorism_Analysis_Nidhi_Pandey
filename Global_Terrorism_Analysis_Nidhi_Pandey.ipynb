{
  "nbformat": 4,
  "nbformat_minor": 0,
  "metadata": {
    "colab": {
      "private_outputs": true,
      "provenance": [],
      "collapsed_sections": [
        "vncDsAP0Gaoa",
        "FJNUwmbgGyua",
        "w6K7xa23Elo4",
        "yQaldy8SH6Dl",
        "PH-0ReGfmX4f",
        "mDgbUHAGgjLW",
        "O_i_v8NEhb9l",
        "HhfV-JJviCcP",
        "Y3lxredqlCYt",
        "3RnN4peoiCZX",
        "x71ZqKXriCWQ",
        "7hBIi_osiCS2",
        "JlHwYmJAmNHm",
        "35m5QtbWiB9F",
        "PoPl-ycgm1ru",
        "H0kj-8xxnORC",
        "nA9Y7ga8ng1Z",
        "PBTbrJXOngz2",
        "u3PMJOP6ngxN",
        "dauF4eBmngu3",
        "bKJF3rekwFvQ",
        "MSa1f5Uengrz",
        "GF8Ens_Soomf",
        "0wOQAZs5pc--",
        "K5QZ13OEpz2H",
        "lQ7QKXXCp7Bj",
        "448CDAPjqfQr",
        "KSlN3yHqYklG",
        "t6dVpIINYklI",
        "ijmpgYnKYklI",
        "-JiQyfWJYklI",
        "EM7whBJCYoAo",
        "fge-S5ZAYoAp",
        "85gYPyotYoAp",
        "RoGjAbkUYoAp",
        "4Of9eVA-YrdM",
        "iky9q4vBYrdO",
        "F6T5p64dYrdO",
        "y-Ehk30pYrdP",
        "bamQiAODYuh1",
        "QHF8YVU7Yuh3",
        "GwzvFGzlYuh3",
        "qYpmQ266Yuh3",
        "OH-pJp9IphqM",
        "bbFf2-_FphqN",
        "_ouA3fa0phqN",
        "Seke61FWphqN",
        "PIIx-8_IphqN",
        "t27r6nlMphqO",
        "r2jJGEOYphqO",
        "b0JNsNcRphqO",
        "BZR9WyysphqO",
        "jj7wYXLtphqO",
        "eZrbJ2SmphqO",
        "rFu4xreNphqO",
        "YJ55k-q6phqO",
        "gCFgpxoyphqP",
        "OVtJsKN_phqQ",
        "lssrdh5qphqQ",
        "U2RJ9gkRphqQ",
        "1M8mcRywphqQ",
        "tgIPom80phqQ",
        "JMzcOPDDphqR",
        "x-EpHcCOp1ci",
        "X_VqEhTip1ck",
        "8zGJKyg5p1ck",
        "PVzmfK_Ep1ck",
        "n3dbpmDWp1ck",
        "ylSl6qgtp1ck",
        "ZWILFDl5p1ck",
        "M7G43BXep1ck",
        "Ag9LCva-p1cl",
        "E6MkPsBcp1cl",
        "2cELzS2fp1cl",
        "3MPXvC8up1cl",
        "NC_X3p0fY2L0",
        "UV0SzAkaZNRQ",
        "YPEH6qLeZNRQ",
        "q29F0dvdveiT",
        "EXh0U9oCveiU",
        "22aHeOlLveiV",
        "JcMwzZxoAimU",
        "8G2x9gOozGDZ",
        "gCX9965dhzqZ",
        "gIfDvo9L0UH2"
      ],
      "include_colab_link": true
    },
    "kernelspec": {
      "name": "python3",
      "display_name": "Python 3"
    },
    "language_info": {
      "name": "python"
    }
  },
  "cells": [
    {
      "cell_type": "markdown",
      "metadata": {
        "id": "view-in-github",
        "colab_type": "text"
      },
      "source": [
        "<a href=\"https://colab.research.google.com/github/treasure823/Global_Terrorism_Analysis_Nidhi_Pandey/blob/main/Global_Terrorism_Analysis_Nidhi_Pandey.ipynb\" target=\"_parent\"><img src=\"https://colab.research.google.com/assets/colab-badge.svg\" alt=\"Open In Colab\"/></a>"
      ]
    },
    {
      "cell_type": "markdown",
      "source": [
        "# **Project Name**    - Global Terrorism Dataset EDA\n",
        "\n"
      ],
      "metadata": {
        "id": "vncDsAP0Gaoa"
      }
    },
    {
      "cell_type": "markdown",
      "source": [
        "##### **Project Type**    - EDA\n",
        "##### **Contribution**    - Individual\n",
        "##### **Team Member 1 -**  Nidhi Pandey\n"
      ],
      "metadata": {
        "id": "beRrZCGUAJYm"
      }
    },
    {
      "cell_type": "markdown",
      "source": [
        "# **Project Summary -**"
      ],
      "metadata": {
        "id": "FJNUwmbgGyua"
      }
    },
    {
      "cell_type": "markdown",
      "source": [
        "The GTD is an open-source database, which provides information on domestic and international terrorist attacks around the world since 1970 through 2017 and now includes more than 180,000 events. For each event, a wide range of information is available, including the date and location of the incident, the weapons used, nature of the target, the number of casualties, and – when identifiable – the group or individual responsible. The data is maintained by researchers at the National Consortium for the Study of Terrorism and Responses to Terrorism (START), headquartered at the University of Maryland. The project aims to gain insights about terror attacks collectively in different regions through time, find out the regions that are hit the most and check to see how terrorism in itself is diverse with its targets and means. Due to the large quantity of the data and its diversity, the analysis and visualizations are performed only after doing preliminary processes including Handling Null Values, Finding Correlations and summarizing the data’s central tendency, dispersion and shape of data distribution in order to get rudimentary insights. For Exploratory Data Analysis, we are viewing the data through 4 lenses: Terrorist Organization, Global & Regional trends of Attack, Type of Attack and Target Type. The main criteria used to measure the magnitude of the attack is the number of fatalities. The project made use of the Correlation Heatmaps initially as a guide to explore relations between Attack Types and Weapon Types. The project made use of different plots including line plots, bar plots, pie plots, joint plots, strip plot and scatter plots to visualize the data. As more findings were presented, more questions arose. This never-ending loop helped arrive to the following conclusions: • The Civil War between Iraq and Islamic State of Iraq and the Levant (ISIL) has claimed 1570 fatalities, the largest taken in any terror attack. • The top 20% of the Terrorist Organisations have contributed to almost 99% of the crimes. This clearly shows the unequal relationship between actions and consequences verifying Pareto's Principle. • The most notorious terrorist organisations are Islamic State of Iraq and the Levant (ISIL), Taliban, Boko Haram and Shining Path(SL). These organisations alone have contributed to more than one third of the total fatalities and almost 50% of the total attacks. • Global Terrorism started increasing to an all-time high from 2011. This peaked in the year 2014 and started dipping ever since. The regions: South Asia and Middle East & North Africa, play a substantial role in Global Terrorism. • The top 3 most commonly perpetrated types of attack are Bombing/Explosion, Armed Assault and Assassination whose common victims are Private Citizens/Property, Government Officials and Journalists respectively. The frequency of the top 3 attacks increase by two-folds as we move up the ladder. • Armed Assault is a dominant type of attack in Central America & Caribbean and Bombings/Explosion is a dominant type of attack in Middle East & North Africa. • Most Affected Target types are Private Citizens & Property, Military and Police. • Islamic State of Iraq and the Levant (ISIL) and Taliban are active from the mid 2010's and Boko Haram are active from 2010. Liberation Tigers of Tamil Eelam (LTTE) are active from late 1980's. Their attacks peaked in mid 1990's and reduced in 2000's. The Irish Republican Army (IRA) has made their attacks constantly from 1970's to 1980's."
      ],
      "metadata": {
        "id": "F6v_1wHtG2nS"
      }
    },
    {
      "cell_type": "markdown",
      "source": [
        "# **GitHub Link -**"
      ],
      "metadata": {
        "id": "w6K7xa23Elo4"
      }
    },
    {
      "cell_type": "markdown",
      "source": [
        "https://github.com/treasure823/Global_Terrorism_Analysis_Nidhi_Pandey"
      ],
      "metadata": {
        "id": "h1o69JH3Eqqn"
      }
    },
    {
      "cell_type": "markdown",
      "source": [
        "# **Problem Statement**\n"
      ],
      "metadata": {
        "id": "yQaldy8SH6Dl"
      }
    },
    {
      "cell_type": "markdown",
      "source": [
        "**The Global Terrorism Database (GTD) is an open-source database including information on terrorist attacks around the world from 1970 through 2017. The GTD includes systematic data on domestic as well as international terrorist incidents that have occurred during this time period and now includes more than 180,000 attacks. The database is maintained by researchers at the National Consortium for the Study of Terrorism and Responses to Terrorism (START), headquartered at the University of Maryland.**"
      ],
      "metadata": {
        "id": "DpeJGUA3kjGy"
      }
    },
    {
      "cell_type": "markdown",
      "source": [
        "#### **Define Your Business Objective?**"
      ],
      "metadata": {
        "id": "PH-0ReGfmX4f"
      }
    },
    {
      "cell_type": "markdown",
      "source": [
        "Answer Here."
      ],
      "metadata": {
        "id": "PhDvGCAqmjP1"
      }
    },
    {
      "cell_type": "markdown",
      "source": [
        "# **General Guidelines** : -  "
      ],
      "metadata": {
        "id": "mDgbUHAGgjLW"
      }
    },
    {
      "cell_type": "markdown",
      "source": [
        "1.   Well-structured, formatted, and commented code is required. \n",
        "2.   Exception Handling, Production Grade Code & Deployment Ready Code will be a plus. Those students will be awarded some additional credits. \n",
        "     \n",
        "     The additional credits will have advantages over other students during Star Student selection.\n",
        "       \n",
        "             [ Note: - Deployment Ready Code is defined as, the whole .ipynb notebook should be executable in one go\n",
        "                       without a single error logged. ]\n",
        "\n",
        "3.   Each and every logic should have proper comments.\n",
        "4. You may add as many number of charts you want. Make Sure for each and every chart the following format should be answered.\n",
        "        \n",
        "\n",
        "```\n",
        "# Chart visualization code\n",
        "```\n",
        "            \n",
        "\n",
        "*   Why did you pick the specific chart?\n",
        "*   What is/are the insight(s) found from the chart?\n",
        "* Will the gained insights help creating a positive business impact? \n",
        "Are there any insights that lead to negative growth? Justify with specific reason.\n",
        "\n",
        "5. You have to create at least 20 logical & meaningful charts having important insights.\n",
        "\n",
        "\n",
        "[ Hints : - Do the Vizualization in  a structured way while following \"UBM\" Rule. \n",
        "\n",
        "U - Univariate Analysis,\n",
        "\n",
        "B - Bivariate Analysis (Numerical - Categorical, Numerical - Numerical, Categorical - Categorical)\n",
        "\n",
        "M - Multivariate Analysis\n",
        " ]\n",
        "\n",
        "\n",
        "\n"
      ],
      "metadata": {
        "id": "ZrxVaUj-hHfC"
      }
    },
    {
      "cell_type": "markdown",
      "source": [
        "# ***Let's Begin !***"
      ],
      "metadata": {
        "id": "O_i_v8NEhb9l"
      }
    },
    {
      "cell_type": "markdown",
      "source": [
        "## ***1. Know Your Data***"
      ],
      "metadata": {
        "id": "HhfV-JJviCcP"
      }
    },
    {
      "cell_type": "markdown",
      "source": [
        "### Import Libraries"
      ],
      "metadata": {
        "id": "Y3lxredqlCYt"
      }
    },
    {
      "cell_type": "code",
      "source": [
        "# Import Libraries\n",
        "import pandas as pd\n",
        "import numpy as np"
      ],
      "metadata": {
        "id": "dPQl3MOyDWXu"
      },
      "execution_count": null,
      "outputs": []
    },
    {
      "cell_type": "markdown",
      "source": [
        "### Dataset Loading"
      ],
      "metadata": {
        "id": "3RnN4peoiCZX"
      }
    },
    {
      "cell_type": "code",
      "source": [
        "# Mount Drive \n",
        "from google.colab import drive\n",
        "drive.mount('/content/drive')"
      ],
      "metadata": {
        "id": "4CkvbW_SlZ_R"
      },
      "execution_count": null,
      "outputs": []
    },
    {
      "cell_type": "code",
      "source": [
        "# Load Dataset \n",
        "filepath = '/content/drive/MyDrive/GlobalTerrorism Analysis/Global Terrorism Data.csv' \n",
        "gta_df = pd.read_csv(filepath, encoding = \"ISO-8859-1\", engine='python') # Encoding is specified"
      ],
      "metadata": {
        "id": "aFdrcJ7VEAuj"
      },
      "execution_count": null,
      "outputs": []
    },
    {
      "cell_type": "markdown",
      "source": [
        "### Dataset First View"
      ],
      "metadata": {
        "id": "x71ZqKXriCWQ"
      }
    },
    {
      "cell_type": "code",
      "source": [
        "# Dataset First Look\n",
        "gta_df.head()"
      ],
      "metadata": {
        "id": "LWNFOSvLl09H"
      },
      "execution_count": null,
      "outputs": []
    },
    {
      "cell_type": "markdown",
      "source": [
        "### Dataset Rows & Columns count"
      ],
      "metadata": {
        "id": "7hBIi_osiCS2"
      }
    },
    {
      "cell_type": "code",
      "source": [
        "# Dataset Rows & Columns count\n",
        "gta_df.head(7)"
      ],
      "metadata": {
        "id": "Kllu7SJgmLij"
      },
      "execution_count": null,
      "outputs": []
    },
    {
      "cell_type": "code",
      "source": [
        "gta_df.tail(6)"
      ],
      "metadata": {
        "id": "0re83A3ZEpuQ"
      },
      "execution_count": null,
      "outputs": []
    },
    {
      "cell_type": "markdown",
      "source": [
        "### Dataset Information"
      ],
      "metadata": {
        "id": "JlHwYmJAmNHm"
      }
    },
    {
      "cell_type": "code",
      "source": [
        "# Dataset Info\n",
        "gta_df.columns"
      ],
      "metadata": {
        "id": "e9hRXRi6meOf"
      },
      "execution_count": null,
      "outputs": []
    },
    {
      "cell_type": "code",
      "source": [
        "useful_columns = ['eventid','iyear','country_txt', 'region_txt','attacktype1','attacktype1_txt',\n",
        "                  'weaptype1','weaptype1_txt','targtype1','targtype1_txt','nwound', 'gname','claimed','nkill','crit1','crit2','crit3','success','suicide','city'\n",
        "                  ]"
      ],
      "metadata": {
        "id": "qf82F9bIE-_t"
      },
      "execution_count": null,
      "outputs": []
    },
    {
      "cell_type": "markdown",
      "source": [
        "Relevant Columns are chosen with the help of the [GTA CodeBook\n",
        "](https://colab.research.google.com/drive/1ubNPU3SmI9i0I3TC8Q7mO1vV7zsveAD1#scrollTo=MHRVkguR38fF&line=1&uniqifier=1)\n"
      ],
      "metadata": {
        "id": "Tqd8TKb9FgNp"
      }
    },
    {
      "cell_type": "code",
      "source": [
        "#useful_columns contain the list of selected attributes\n",
        "gta_df = gta_df.loc[:, useful_columns]"
      ],
      "metadata": {
        "id": "42hWFD0oF5UA"
      },
      "execution_count": null,
      "outputs": []
    },
    {
      "cell_type": "code",
      "source": [
        "# checking the statistical features  of the numerical coloumns \n",
        "gta_df.describe()"
      ],
      "metadata": {
        "id": "5aJo_QI8GH3X"
      },
      "execution_count": null,
      "outputs": []
    },
    {
      "cell_type": "code",
      "source": [
        "gta_df[gta_df['claimed']==1]"
      ],
      "metadata": {
        "id": "ZJhIniiEGg1L"
      },
      "execution_count": null,
      "outputs": []
    },
    {
      "cell_type": "markdown",
      "source": [
        "**Observation: The maximum amount of fatalities an even has claimed is 1570**"
      ],
      "metadata": {
        "id": "9WNsGrodGnkf"
      }
    },
    {
      "cell_type": "code",
      "source": [
        "gta_df[gta_df['nkill']== 1570]"
      ],
      "metadata": {
        "id": "KdFZfO1bPiuv"
      },
      "execution_count": null,
      "outputs": []
    },
    {
      "cell_type": "markdown",
      "source": [
        "**The Civil War between Iraq and Islamic State of Iraq and the Islamic State of Iraq and the Levant (ISIL) has claimed the most amount of fatalities**"
      ],
      "metadata": {
        "id": "rJVa0YQVG7QT"
      }
    },
    {
      "cell_type": "markdown",
      "source": [
        "#### Duplicate Values"
      ],
      "metadata": {
        "id": "35m5QtbWiB9F"
      }
    },
    {
      "cell_type": "code",
      "source": [
        "# Dataset Duplicate Value Count\n",
        "gta_df.head(7)"
      ],
      "metadata": {
        "id": "1sLdpKYkmox0"
      },
      "execution_count": null,
      "outputs": []
    },
    {
      "cell_type": "code",
      "source": [
        "gta_df.duplicated()"
      ],
      "metadata": {
        "id": "4m-Cz7lPHbr-"
      },
      "execution_count": null,
      "outputs": []
    },
    {
      "cell_type": "markdown",
      "source": [
        "#### Missing Values/Null Values"
      ],
      "metadata": {
        "id": "PoPl-ycgm1ru"
      }
    },
    {
      "cell_type": "code",
      "source": [
        "# Missing Values/Null Values Count\n",
        "gta_df.info()"
      ],
      "metadata": {
        "id": "KzJjycKfHlc-"
      },
      "execution_count": null,
      "outputs": []
    },
    {
      "cell_type": "code",
      "source": [
        "# Visualizing the missing values\n",
        "for i, col in gta_df.iteritems():\n",
        "  if col.dtype == 'int64':\n",
        "    print(col.name)"
      ],
      "metadata": {
        "id": "3q5wnI3om9sJ"
      },
      "execution_count": null,
      "outputs": []
    },
    {
      "cell_type": "markdown",
      "source": [
        "**Attributes 'claimed', 'nkill' and 'nwound' have null values.**"
      ],
      "metadata": {
        "id": "k63Ue09tH0_7"
      }
    },
    {
      "cell_type": "markdown",
      "source": [
        "**Handling null values**\n",
        "\n",
        "1) 'claimed'\n",
        "\n",
        "**Down below are the unique values in the column 'claimed'. Here, -9 indicates that the data was unavailable at the time. Null values will be replaced by -9 as dropping the rows will eliminate almost 8000 columns**\n",
        "\n"
      ],
      "metadata": {
        "id": "90GbN-fdH_e2"
      }
    },
    {
      "cell_type": "code",
      "source": [
        "gta_df['claimed'].fillna(-9, inplace = True)"
      ],
      "metadata": {
        "id": "XhSjW1E3H5rL"
      },
      "execution_count": null,
      "outputs": []
    },
    {
      "cell_type": "markdown",
      "source": [
        "2)'nkill'\n",
        "\n",
        "Null values of nkill is replaced by the median values of nkill"
      ],
      "metadata": {
        "id": "TyLgzWg7IaZj"
      }
    },
    {
      "cell_type": "code",
      "source": [
        "gta_df['nkill'].median()"
      ],
      "metadata": {
        "id": "fglK0W12Cp8l"
      },
      "execution_count": null,
      "outputs": []
    },
    {
      "cell_type": "code",
      "source": [
        "gta_df['nkill'].fillna(0, inplace = True)"
      ],
      "metadata": {
        "id": "vVhP2GRhCOSc"
      },
      "execution_count": null,
      "outputs": []
    },
    {
      "cell_type": "markdown",
      "source": [
        "3)'nwound'"
      ],
      "metadata": {
        "id": "nnpaA8fXJDDv"
      }
    },
    {
      "cell_type": "code",
      "source": [
        "gta_df['nwound'].median()\n"
      ],
      "metadata": {
        "id": "y9YjD5SQDi5Q"
      },
      "execution_count": null,
      "outputs": []
    },
    {
      "cell_type": "code",
      "source": [
        "gta_df['nkill'].fillna(0, inplace = True)"
      ],
      "metadata": {
        "id": "ig5IV4EoD3dY"
      },
      "execution_count": null,
      "outputs": []
    },
    {
      "cell_type": "markdown",
      "source": [
        "Converting year to date time"
      ],
      "metadata": {
        "id": "kvKLhIk9Jdc_"
      }
    },
    {
      "cell_type": "code",
      "source": [
        "gta_df['iyear'] = pd.to_datetime(gta_df['iyear'], format = '%Y')"
      ],
      "metadata": {
        "id": "1PQnTgQcJfFD"
      },
      "execution_count": null,
      "outputs": []
    },
    {
      "cell_type": "markdown",
      "source": [
        "### What did you know about your dataset?"
      ],
      "metadata": {
        "id": "H0kj-8xxnORC"
      }
    },
    {
      "cell_type": "markdown",
      "source": [
        "The Global Terrorism Database (GTD) is an open-source database including information on terrorist attacks around the world from 1970 through 2017. The GTD includes systematic data on domestic as well as international terrorist incidents that have occurred during this time period and now includes more than 180,000 attacks. The database is maintained by researchers at the National Consortium for the Study of Terrorism and Responses to Terrorism (START), headquartered at the University of Maryland.\n",
        "\n",
        "The provided columns helped us to gather information about all the data which we will be required for our code eventid , iyear , country_txt , region_txt , attacktype1 , attacktype1_txt ,weaptype1 , weaptype1_txt , targtype1 , targtype1_txt , nwound , gname ,claimed , nkill , crit1 , crit2 , crit3 ,success , sucide , city.\n",
        "\n",
        "This data helped us to know about all the terrorist attack had been happened in the past years which coutry,city, or we can say that which region has been attacked the most by the terrorist organization .The provided data helped us to know what type of attacks had been planned to harm the society such as Bombing/Explosion , Facilities and Infrastucture , Assassination , Hosttage taking ,Armed Assault and the number of fatalities has been happened due to these attacks , the provided data helps to fetch the details that has been provided in the data. Global terrorism has cause an effect on infrastucture and most of attacks have harmed private citizens and properties and it causes a negative impact on bussiness on international level. Terrorism also negatively affects business performance by increasing the cost of conducting business through higher wages and larger security expenditures.The overall psychological impact of the possibility of a future terrorist attack and the immediate expense of heightened airport security have a negative economic impact on the survival and expansion of businesses. Additional expenses (such as spending on security and surveillance, repairs, and replacing stolen property) negatively diminish the already limited financial resources, which may have a negative impact on corporate performance."
      ],
      "metadata": {
        "id": "gfoNAAC-nUe_"
      }
    },
    {
      "cell_type": "markdown",
      "source": [
        "## ***2. Understanding Your Variables***"
      ],
      "metadata": {
        "id": "nA9Y7ga8ng1Z"
      }
    },
    {
      "cell_type": "code",
      "source": [
        "# Dataset Columns\n",
        "list(gta_df.columns.values)"
      ],
      "metadata": {
        "id": "j7xfkqrt5Ag5"
      },
      "execution_count": null,
      "outputs": []
    },
    {
      "cell_type": "code",
      "source": [
        "# Dataset Describe\n",
        "gta_df.describe()"
      ],
      "metadata": {
        "id": "DnOaZdaE5Q5t"
      },
      "execution_count": null,
      "outputs": []
    },
    {
      "cell_type": "code",
      "source": [
        "gta_df.mean()"
      ],
      "metadata": {
        "id": "yYPErPpZKlem"
      },
      "execution_count": null,
      "outputs": []
    },
    {
      "cell_type": "markdown",
      "source": [
        "### Variables Description "
      ],
      "metadata": {
        "id": "PBTbrJXOngz2"
      }
    },
    {
      "cell_type": "markdown",
      "source": [
        "**A symbolic name that serves as a reference or pointer to an object is called a variable in Python. You can use the variable name to refer to an object once it has been assigned to it. Nonetheless, the object itself still holds the data.**"
      ],
      "metadata": {
        "id": "_mv9mEdTK4g1"
      }
    },
    {
      "cell_type": "markdown",
      "source": [
        "\n",
        "The Global Terrorism Database contains a record of over 180,000 terror attacks from 1970 through 2017 with 137 attributes. These attributes were cut down to 20. The attributes are listed below:-\n",
        " \n",
        "1.   eventid: Unique ID number assigned each terror attack.\n",
        "2.   iyear: The year the terror attack took place.\n",
        "3.   country_txt: Name of the country the terror attack took place in.\n",
        "4.   region_txt: Name of the subcontinent the terror attack took place in.\n",
        "5.   city: Name of the city the terror attack took place in \n",
        "6.   attacktype1, attacktype1_txt: Numerical Encoding and the corresponding type of attack that took place.\n",
        "7.   weaptype1weaptype1_txt: Numerical Encoding and the type of weapon used to propagate the attack.\n",
        "8.   targtype1, targtype1_txt: Numerical Encoding and the type of target the attack was perpetrated on.\n",
        "9.   nwound: Number of victims wounded from the terror attack.\n",
        "10.  gname: Name of the Terrorist Group that perpetrated the attack.\n",
        "11.  claimed: Information on whether or not the attack was claimed.\n",
        "12.  nkill: Number of Fatalities of the terror attack.\n",
        "13.  crit1: Information if the attack had a political, economic, religious, or social goal.\n",
        "14.  crit2: Information if the attack had an intention to coerce, intimidate or \n",
        "publicize to a larger audience.\n",
        "15.  crit3: Information if the attack was outside international humanitarian \n",
        "law.\n",
        "16.  success: Specifies if the attack took place \n",
        "17.  suicide: Specifies if the attack was perpetrated by suicide"
      ],
      "metadata": {
        "id": "wpih7rn15XFT"
      }
    },
    {
      "cell_type": "markdown",
      "source": [
        "### Check Unique Values for each variable."
      ],
      "metadata": {
        "id": "u3PMJOP6ngxN"
      }
    },
    {
      "cell_type": "code",
      "source": [
        "# Check Unique Values for each variable.\n",
        "gta_df['country_txt'].unique()"
      ],
      "metadata": {
        "id": "zms12Yq5n-jE"
      },
      "execution_count": null,
      "outputs": []
    },
    {
      "cell_type": "code",
      "source": [
        "gta_df['city'].unique()"
      ],
      "metadata": {
        "id": "7O0XW1UTUB3n"
      },
      "execution_count": null,
      "outputs": []
    },
    {
      "cell_type": "code",
      "source": [
        "gta_df['weaptype1_txt'].unique()"
      ],
      "metadata": {
        "id": "loHAaWQPU7Q-"
      },
      "execution_count": null,
      "outputs": []
    },
    {
      "cell_type": "code",
      "source": [
        "gta_df['suicide'].unique()"
      ],
      "metadata": {
        "id": "owfQ10O_VOht"
      },
      "execution_count": null,
      "outputs": []
    },
    {
      "cell_type": "code",
      "source": [
        "gta_df['country_txt'].value_counts()"
      ],
      "metadata": {
        "id": "SUFS0fKHW_4L"
      },
      "execution_count": null,
      "outputs": []
    },
    {
      "cell_type": "code",
      "source": [
        "gta_df[\"attacktype1_txt\"].unique()"
      ],
      "metadata": {
        "id": "vDzUwLkO34fA"
      },
      "execution_count": null,
      "outputs": []
    },
    {
      "cell_type": "markdown",
      "source": [
        "## 3. ***Data Wrangling***"
      ],
      "metadata": {
        "id": "dauF4eBmngu3"
      }
    },
    {
      "cell_type": "markdown",
      "source": [
        "### Data Wrangling Code"
      ],
      "metadata": {
        "id": "bKJF3rekwFvQ"
      }
    },
    {
      "cell_type": "code",
      "source": [
        "# Write your code to make your dataset analysis ready.\n"
      ],
      "metadata": {
        "id": "wk-9a2fpoLcV"
      },
      "execution_count": null,
      "outputs": []
    },
    {
      "cell_type": "code",
      "source": [
        "iyear_str = gta_df.iyear.map(lambda x:str(x))\n",
        "gta_df[\"region_txt\"]+\"-\"+iyear_str"
      ],
      "metadata": {
        "id": "lLwZJ3QgjeRb"
      },
      "execution_count": null,
      "outputs": []
    },
    {
      "cell_type": "code",
      "source": [
        "gta_df.groupby('country_txt').count()"
      ],
      "metadata": {
        "id": "0GUZirJSnbST"
      },
      "execution_count": null,
      "outputs": []
    },
    {
      "cell_type": "code",
      "source": [
        "gta_df.groupby(\"region_txt\").min()"
      ],
      "metadata": {
        "id": "7ahekNuxoI9e"
      },
      "execution_count": null,
      "outputs": []
    },
    {
      "cell_type": "code",
      "source": [
        "gta_df.groupby(\"targtype1_txt\").apply(lambda row : row[\"weaptype1\"].iloc(0))"
      ],
      "metadata": {
        "id": "m--kxbz-qNcq"
      },
      "execution_count": null,
      "outputs": []
    },
    {
      "cell_type": "code",
      "source": [
        "gta_df.groupby(\"attacktype1_txt\").weaptype1.agg([len,min,max,sum])"
      ],
      "metadata": {
        "id": "naHn2qc4s8rO"
      },
      "execution_count": null,
      "outputs": []
    },
    {
      "cell_type": "code",
      "source": [
        "gta_df.rename(index ={0:\"Entry 1\" , 1:\"Entry 2\"})"
      ],
      "metadata": {
        "id": "7BWwgYMQwaK1"
      },
      "execution_count": null,
      "outputs": []
    },
    {
      "cell_type": "code",
      "source": [
        "gta_df.set_index([\"city\" ,\"iyear\"])"
      ],
      "metadata": {
        "id": "-7NLKdEiGGv2"
      },
      "execution_count": null,
      "outputs": []
    },
    {
      "cell_type": "code",
      "source": [
        "targtype_1 = gta_df.iloc[: 6 , :5]"
      ],
      "metadata": {
        "id": "AslA6d9rpGr8"
      },
      "execution_count": null,
      "outputs": []
    },
    {
      "cell_type": "code",
      "source": [
        "attacktype1_txt = gta_df.iloc[: 12 , : 18]"
      ],
      "metadata": {
        "id": "LCzUccASIGba"
      },
      "execution_count": null,
      "outputs": []
    },
    {
      "cell_type": "markdown",
      "source": [
        "*The Concat() method is used to combine a set of elements together along an axis*"
      ],
      "metadata": {
        "id": "bBo-R66sIfU_"
      }
    },
    {
      "cell_type": "code",
      "source": [
        "pd.concat([targtype_1 , attacktype1_txt ])"
      ],
      "metadata": {
        "id": "_SLu10vhIXAU"
      },
      "execution_count": null,
      "outputs": []
    },
    {
      "cell_type": "markdown",
      "source": [
        "### What all manipulations have you done and insights you found?"
      ],
      "metadata": {
        "id": "MSa1f5Uengrz"
      }
    },
    {
      "cell_type": "markdown",
      "source": [
        "Data manipulation is significant because it enables quick access to the information that is essential to your particular business and objectives.\n",
        "\n",
        "1) I have used groupby() method for grouping the important for data the requirement of the code.\n",
        "\n",
        "2) I have used agg() method .\n",
        "\n",
        "3) I have used rename () method to rename two indices .\n",
        "\n",
        "4) I have used iloc(){index based selection}.\n",
        "\n",
        "5) I have used concat() method for combing two set of elements. \n",
        "\n",
        "The insights we got to know about the few nan values by joining the two columns and about number attacks that has been implemented on the various city /region /country such as Assassination ,Bombing/Explosion , Facilities and infrastucture\n",
        "and Armed assualt and mostly attack region was North America."
      ],
      "metadata": {
        "id": "gioAKKXcODw5"
      }
    },
    {
      "cell_type": "markdown",
      "source": [
        "## ***4. Data Vizualization, Storytelling & Experimenting with charts : Understand the relationships between variables***"
      ],
      "metadata": {
        "id": "GF8Ens_Soomf"
      }
    },
    {
      "cell_type": "markdown",
      "source": [
        "#### Chart - 1"
      ],
      "metadata": {
        "id": "0wOQAZs5pc--"
      }
    },
    {
      "cell_type": "code",
      "source": [
        "# Chart - 1 visualization code\n",
        "import seaborn as sns\n",
        "import matplotlib.pyplot as plt\n",
        "\n",
        "%matplotlib inline\n"
      ],
      "metadata": {
        "id": "7v_ESjsspbW7"
      },
      "execution_count": null,
      "outputs": []
    },
    {
      "cell_type": "code",
      "source": [
        "corrdf = gta_df.corr(method = 'spearman')"
      ],
      "metadata": {
        "id": "tfmZdfuMv7wG"
      },
      "execution_count": null,
      "outputs": []
    },
    {
      "cell_type": "code",
      "source": [
        "plt.figure(figsize=(10,10))\n",
        "sns.heatmap(corrdf,square = True)"
      ],
      "metadata": {
        "id": "r3v6I8dpKCSk"
      },
      "execution_count": null,
      "outputs": []
    },
    {
      "cell_type": "markdown",
      "source": [
        "##### 1. Why did you pick the specific chart?"
      ],
      "metadata": {
        "id": "K5QZ13OEpz2H"
      }
    },
    {
      "cell_type": "markdown",
      "source": [
        "The statistical investigation of the link or dependence between two variables is called correlation. We can examine the direction and degree of the association between two sets of values using correlation."
      ],
      "metadata": {
        "id": "XESiWehPqBRc"
      }
    },
    {
      "cell_type": "markdown",
      "source": [
        "##### 2. What is/are the insight(s) found from the chart?"
      ],
      "metadata": {
        "id": "lQ7QKXXCp7Bj"
      }
    },
    {
      "cell_type": "markdown",
      "source": [
        "Given that the majority of the data is categorical, the observed correlation appears to be relatively weak. The only statistical relationship that can be taken into account is that between \"nkill\" (Fatalities) and \"nwound\" (Wounded)"
      ],
      "metadata": {
        "id": "C_j1G7yiqdRP"
      }
    },
    {
      "cell_type": "markdown",
      "source": [
        "##### 3. Will the gained insights help creating a positive business impact? \n",
        "Are there any insights that lead to negative growth? Justify with specific reason."
      ],
      "metadata": {
        "id": "448CDAPjqfQr"
      }
    },
    {
      "cell_type": "markdown",
      "source": [
        "No we didn't get any negative insight from the above chart."
      ],
      "metadata": {
        "id": "3cspy4FjqxJW"
      }
    },
    {
      "cell_type": "markdown",
      "source": [
        "#### Chart - 2"
      ],
      "metadata": {
        "id": "KSlN3yHqYklG"
      }
    },
    {
      "cell_type": "markdown",
      "source": [
        "\n",
        "**Visualizing relation between number Fatalities and Wounded victims**"
      ],
      "metadata": {
        "id": "H80NDsLkMs5d"
      }
    },
    {
      "cell_type": "code",
      "source": [
        "# Chart - 2 visualization code\n",
        "sns.jointplot(data= gta_df, x=\"nkill\", y=\"nwound\", height = 10)\n",
        "plt.title(\"Analysis of Fatalities & Wounded wrt to Region\")\n",
        "plt.ylabel(\"Wounded\")\n",
        "plt.xlabel(\"Fatalities\")"
      ],
      "metadata": {
        "id": "R4YgtaqtYklH"
      },
      "execution_count": null,
      "outputs": []
    },
    {
      "cell_type": "markdown",
      "source": [
        "##### 1. Why did you pick the specific chart?"
      ],
      "metadata": {
        "id": "t6dVpIINYklI"
      }
    },
    {
      "cell_type": "markdown",
      "source": [
        "The relationship between variables or features in a dataset is quantified by correlation coefficients. Python has excellent tools that you may use to calculate these statistics, which are very important for research and technology. The correlation methods in SciPy, NumPy, and pandas are quick, thorough, and well-documented."
      ],
      "metadata": {
        "id": "5aaW0BYyYklI"
      }
    },
    {
      "cell_type": "markdown",
      "source": [
        "##### 2. What is/are the insight(s) found from the chart?"
      ],
      "metadata": {
        "id": "ijmpgYnKYklI"
      }
    },
    {
      "cell_type": "markdown",
      "source": [
        "The graphic shows the breakdown of the total number of assaults' fatalities and wounded victims. From this, we might infer that the majority of attacks result in more than 1000 fatalities and 8000 wonded people.\n",
        "\n"
      ],
      "metadata": {
        "id": "VPUoFrAXM1fR"
      }
    },
    {
      "cell_type": "markdown",
      "source": [
        "##### 3. Will the gained insights help creating a positive business impact? \n",
        "Are there any insights that lead to negative growth? Justify with specific reason."
      ],
      "metadata": {
        "id": "-JiQyfWJYklI"
      }
    },
    {
      "cell_type": "markdown",
      "source": [
        "No "
      ],
      "metadata": {
        "id": "BcBbebzrYklV"
      }
    },
    {
      "cell_type": "markdown",
      "source": [
        "#### Chart - 3\n",
        "Line Plot \n",
        "\n",
        "Analysis of the types of attacks and number of casualities\n",
        "\n"
      ],
      "metadata": {
        "id": "EM7whBJCYoAo"
      }
    },
    {
      "cell_type": "code",
      "source": [
        "gta_df = gta_df.iloc[ :  ,  : ]\n",
        "gta_df.head(10)\n"
      ],
      "metadata": {
        "id": "dSTW6Jnm2DUi"
      },
      "execution_count": null,
      "outputs": []
    },
    {
      "cell_type": "code",
      "source": [
        "gta_df.tail(10)"
      ],
      "metadata": {
        "id": "qF_NBaeTR7GO"
      },
      "execution_count": null,
      "outputs": []
    },
    {
      "cell_type": "code",
      "source": [
        "# Chart - 3 visualization code\n",
        "#x variable on horizontal axis (in this case \"nkill\" column)\n",
        "# y variable on vertical  axis (in this case \"attacktype1_txt\" column)\n",
        "sns.lineplot(x= gta_df['nkill'] , y = gta_df['attacktype1_txt'])"
      ],
      "metadata": {
        "id": "t6GMdE67YoAp"
      },
      "execution_count": null,
      "outputs": []
    },
    {
      "cell_type": "markdown",
      "source": [
        "##### 1. Why did you pick the specific chart?"
      ],
      "metadata": {
        "id": "fge-S5ZAYoAp"
      }
    },
    {
      "cell_type": "markdown",
      "source": [
        "**While working on machine learning or data science projects, line plots, one of the simplest and most fundamental graphical analysis techniques, are crucial for data analysis. The relationship between two variables is expressed using them.**"
      ],
      "metadata": {
        "id": "YPe3CZcqSWnV"
      }
    },
    {
      "cell_type": "markdown",
      "source": [
        "##### 2. What is/are the insight(s) found from the chart?"
      ],
      "metadata": {
        "id": "85gYPyotYoAp"
      }
    },
    {
      "cell_type": "markdown",
      "source": [
        "we have observe from the above graph that the maximum number of kills has been due to Bombing/Explosion , Facilityandinfrastructureattack , and Armed assault."
      ],
      "metadata": {
        "id": "4jstXR6OYoAp"
      }
    },
    {
      "cell_type": "markdown",
      "source": [
        "##### 3. Will the gained insights help creating a positive business impact? \n",
        "Are there any insights that lead to negative growth? Justify with specific reason."
      ],
      "metadata": {
        "id": "RoGjAbkUYoAp"
      }
    },
    {
      "cell_type": "markdown",
      "source": [
        "From the above chart we got to know that how the facalities and infrastucture has been damaged, so its a negative impact on business.  "
      ],
      "metadata": {
        "id": "nOMdox2GSonk"
      }
    },
    {
      "cell_type": "markdown",
      "source": [
        "#### Chart - 4\n",
        "Bar Graph\n",
        "\n",
        "Analysis of types of attacks and weapons that have been used\n",
        "\n"
      ],
      "metadata": {
        "id": "4Of9eVA-YrdM"
      }
    },
    {
      "cell_type": "code",
      "source": [
        "# Chart - 4 visualization code\n",
        "plt.rcParams['figure.figsize'] = (9,7)\n",
        "sns.barplot(x = 'attacktype1_txt', y = 'weaptype1', data= gta_df, estimator= np.count_nonzero, palette = 'icefire_r')\n",
        "plt.xticks(rotation = 90)\n",
        "plt.title(\"Types of Terrorist Attacks \")\n",
        "plt.ylabel(\"No of Attacks\")\n",
        "plt.xlabel(\"Attack Type\")"
      ],
      "metadata": {
        "id": "irlUoxc8YrdO"
      },
      "execution_count": null,
      "outputs": []
    },
    {
      "cell_type": "markdown",
      "source": [
        "##### 1. Why did you pick the specific chart?"
      ],
      "metadata": {
        "id": "iky9q4vBYrdO"
      }
    },
    {
      "cell_type": "markdown",
      "source": [
        "Bar graph can be used to used to understand the relationship between different variables in your data. They help in the comparison of quantities that belongs to differnt groups ."
      ],
      "metadata": {
        "id": "aJRCwT6DYrdO"
      }
    },
    {
      "cell_type": "markdown",
      "source": [
        "##### 2. What is/are the insight(s) found from the chart?"
      ],
      "metadata": {
        "id": "F6T5p64dYrdO"
      }
    },
    {
      "cell_type": "markdown",
      "source": [
        "The top 3 comonly perpetrated types of attack are\n",
        "\n",
        "Bombing/Explosion (more than twice as frequent than Armed Assault)\n",
        "\n",
        "Armed Assault (twice as frequent than Assassinations)\n",
        "\n",
        "Assassination\n",
        "\n",
        "The frequency of the top 3 attacks increase by twofolds as we move up the ladder"
      ],
      "metadata": {
        "id": "Xx8WAJvtYrdO"
      }
    },
    {
      "cell_type": "markdown",
      "source": [
        "##### 3. Will the gained insights help creating a positive business impact? \n",
        "Are there any insights that lead to negative growth? Justify with specific reason."
      ],
      "metadata": {
        "id": "y-Ehk30pYrdP"
      }
    },
    {
      "cell_type": "markdown",
      "source": [
        "The direct economic loss of lives and property is the most obvious. Through fostering xenophobia, decreasing tourism, and increasing insurance claims, terrorism has an indirect impact on the economy."
      ],
      "metadata": {
        "id": "jLNxxz7MYrdP"
      }
    },
    {
      "cell_type": "markdown",
      "source": [
        "#### Chart - 5\n",
        "Scatterplot\n",
        "\n",
        "Analysis of the number of fatalities"
      ],
      "metadata": {
        "id": "bamQiAODYuh1"
      }
    },
    {
      "cell_type": "code",
      "source": [
        "# Chart - 5 visualization code\n",
        "# x variable on horizontal axis (in this case \"nwound\" column)\n",
        "# y variable on vertical  axis (in this case \"attacktype1_txt\" column) \n",
        "sns.scatterplot(x= gta_df['nwound'] , y = gta_df['attacktype1_txt'] , color = \"g\")"
      ],
      "metadata": {
        "id": "TIJwrbroYuh3"
      },
      "execution_count": null,
      "outputs": []
    },
    {
      "cell_type": "markdown",
      "source": [
        "##### 1. Why did you pick the specific chart?"
      ],
      "metadata": {
        "id": "QHF8YVU7Yuh3"
      }
    },
    {
      "cell_type": "markdown",
      "source": [
        "The scatter plots help in understanding the relationship the data better. They are generally used to visualize the relationship between two continous variables."
      ],
      "metadata": {
        "id": "dcxuIMRPYuh3"
      }
    },
    {
      "cell_type": "markdown",
      "source": [
        "##### 2. What is/are the insight(s) found from the chart?"
      ],
      "metadata": {
        "id": "GwzvFGzlYuh3"
      }
    },
    {
      "cell_type": "markdown",
      "source": [
        "From the chart it is clear that more than 8000 fatalities are caused during these attacks .Most of it happens because of Hijacking , unarmed assualt and bombing/explosion."
      ],
      "metadata": {
        "id": "uyqkiB8YYuh3"
      }
    },
    {
      "cell_type": "markdown",
      "source": [
        "##### 3. Will the gained insights help creating a positive business impact? \n",
        "Are there any insights that lead to negative growth? Justify with specific reason."
      ],
      "metadata": {
        "id": "qYpmQ266Yuh3"
      }
    },
    {
      "cell_type": "markdown",
      "source": [
        "No positive impact on business can be visualized with the help of this chart.\n",
        "\n"
      ],
      "metadata": {
        "id": "_WtzZ_hCYuh4"
      }
    },
    {
      "cell_type": "markdown",
      "source": [
        "#### Chart - 6\n",
        "Pie Chart\n",
        "\n",
        "Analysis of Top 10 notorious organization"
      ],
      "metadata": {
        "id": "OH-pJp9IphqM"
      }
    },
    {
      "cell_type": "code",
      "source": [
        "# Chart - 6 visualization code\n",
        "a = gta_df.groupby(['gname']).agg({'eventid':'count', 'nkill': 'sum'}).sort_values(['eventid','nkill'], ascending=False)\n",
        "top20 = a.drop('Unknown', axis=0).head(10).reset_index().copy()\n",
        "rest = a.iloc[11:,:].agg({'eventid':'count', 'nkill':'sum'}).copy()\n",
        "lst = rest.to_list()\n",
        "top20.loc[len(top20.index)] = ['Remaining 3217 Terrorist Organisations'] + lst\n",
        "troa = a.index[:10] #List of top 10 Terrorist organisations with highest activities\n"
      ],
      "metadata": {
        "id": "kuRf4wtuphqN"
      },
      "execution_count": null,
      "outputs": []
    },
    {
      "cell_type": "code",
      "source": [
        "plt.rcParams['figure.figsize'] = (15,15)\n",
        "top20.set_index('gname').plot(x= 'gname', y='eventid',kind='pie', legend=False,colors= sns.color_palette(palette = 'PuBu'), \n",
        "                              autopct='%1.1f%%')\n",
        "plt.title(\"\\n Top 10 Terrorist Organisations with Large Attack Numbers\")\n",
        "plt.ylabel(\"\")"
      ],
      "metadata": {
        "id": "gaw13Vj05ReK"
      },
      "execution_count": null,
      "outputs": []
    },
    {
      "cell_type": "markdown",
      "source": [
        "##### 1. Why did you pick the specific chart?"
      ],
      "metadata": {
        "id": "bbFf2-_FphqN"
      }
    },
    {
      "cell_type": "markdown",
      "source": [
        "A pie chart is useful for organising and displaying data by percentage of the total.\n",
        "\n"
      ],
      "metadata": {
        "id": "loh7H2nzphqN"
      }
    },
    {
      "cell_type": "markdown",
      "source": [
        "##### 2. What is/are the insight(s) found from the chart?"
      ],
      "metadata": {
        "id": "_ouA3fa0phqN"
      }
    },
    {
      "cell_type": "markdown",
      "source": [
        "We got know about \"Top 3 Terrorist Organisations with Large Attack Numbers\" such as\n",
        "\n",
        "1)Taliban\n",
        "\n",
        "2)Islamic state of Iraq and the Levant\n",
        "\n",
        "3)shining Path(SL)"
      ],
      "metadata": {
        "id": "VECbqPI7phqN"
      }
    },
    {
      "cell_type": "markdown",
      "source": [
        "##### 3. Will the gained insights help creating a positive business impact? \n",
        "Are there any insights that lead to negative growth? Justify with specific reason."
      ],
      "metadata": {
        "id": "Seke61FWphqN"
      }
    },
    {
      "cell_type": "markdown",
      "source": [
        "There is no such insight which will lead to any negative growth."
      ],
      "metadata": {
        "id": "DW4_bGpfphqN"
      }
    },
    {
      "cell_type": "markdown",
      "source": [
        "#### Chart - 7\n",
        "Line plot\n",
        "\n",
        "Analysis of Global terrorist attack trend\n"
      ],
      "metadata": {
        "id": "PIIx-8_IphqN"
      }
    },
    {
      "cell_type": "code",
      "source": [
        "# Chart - 7 visualization code\n",
        "fig, ax = plt.subplots(figsize = (14,10))\n",
        "sns.lineplot(x= 'iyear', y= 'eventid',data= gta_df,estimator= np.count_nonzero, palette= 'bright')\n",
        "\n",
        "plt.ylabel(\"No. of Attacks\")\n",
        "plt.title(\"Global Terrorist Attack Trends\")\n",
        "plt.xlabel(\"Year\")"
      ],
      "metadata": {
        "id": "lqAIGUfyphqO"
      },
      "execution_count": null,
      "outputs": []
    },
    {
      "cell_type": "markdown",
      "source": [
        "##### 1. Why did you pick the specific chart?"
      ],
      "metadata": {
        "id": "t27r6nlMphqO"
      }
    },
    {
      "cell_type": "markdown",
      "source": [
        "A line plot gives us the best resprentation of required data.A line chart displays the evolution of one or several numeric variables."
      ],
      "metadata": {
        "id": "iv6ro40sphqO"
      }
    },
    {
      "cell_type": "markdown",
      "source": [
        "##### 2. What is/are the insight(s) found from the chart?"
      ],
      "metadata": {
        "id": "r2jJGEOYphqO"
      }
    },
    {
      "cell_type": "markdown",
      "source": [
        "From the above chart we can see the growth in global terrorism trend since 1970 it grown in between those years as we observe through the chart . And it is at its peaks after 2010 and Global Terrorism started increasing to an all time high from 2011. This peaked in the year 2014 and started dipping ever since.\n",
        "\n"
      ],
      "metadata": {
        "id": "Po6ZPi4hphqO"
      }
    },
    {
      "cell_type": "markdown",
      "source": [
        "##### 3. Will the gained insights help creating a positive business impact? \n",
        "Are there any insights that lead to negative growth? Justify with specific reason."
      ],
      "metadata": {
        "id": "b0JNsNcRphqO"
      }
    },
    {
      "cell_type": "markdown",
      "source": [
        "As we all know that terrorism hinders the business also the impact from the chart are clearly negative."
      ],
      "metadata": {
        "id": "xvSq8iUTphqO"
      }
    },
    {
      "cell_type": "markdown",
      "source": [
        "#### Chart - 8\n",
        "Causalities of Terrorist Attacks in different Regions of the World from 1970 to 2017"
      ],
      "metadata": {
        "id": "BZR9WyysphqO"
      }
    },
    {
      "cell_type": "code",
      "source": [
        "# Chart - 8 visualization code\n",
        "fig, ax = plt.subplots(figsize = (14,7))\n",
        "sns.lineplot(x='iyear', y='nkill',data= gta_df, hue='region_txt',estimator= np.sum, palette= 'bright')\n",
        "plt.title(\"Terrorist Attacks in different Regions from 1970-2017 \")\n",
        "plt.ylabel(\"No of Fatalities\")\n",
        "plt.xlabel(\"Year\")"
      ],
      "metadata": {
        "id": "TdPTWpAVphqO"
      },
      "execution_count": null,
      "outputs": []
    },
    {
      "cell_type": "markdown",
      "source": [
        "##### 1. Why did you pick the specific chart?"
      ],
      "metadata": {
        "id": "jj7wYXLtphqO"
      }
    },
    {
      "cell_type": "markdown",
      "source": [
        "Because line chart gives better representation when maximum number of data used is used for viualization .\n",
        "\n"
      ],
      "metadata": {
        "id": "Ob8u6rCTphqO"
      }
    },
    {
      "cell_type": "markdown",
      "source": [
        "##### 2. What is/are the insight(s) found from the chart?"
      ],
      "metadata": {
        "id": "eZrbJ2SmphqO"
      }
    },
    {
      "cell_type": "markdown",
      "source": [
        "Orange line spike near the 2000 indicates september 11 attacks in USA\n",
        "\n",
        "Yellow line spike between mid 2000's and 2010 the war tensions refers to the battle of gaza bw Hamas and Fatah. 2009 the gaza war ended explaining the dip.The Yellow line peaks again in 2010 with Syrian Civil War(2011) and Iraqui Civil War(2013-2017)\n",
        "\n",
        "We can also say that even though the number of attacks in South Asia has been higher than the attacks in Sub-Saharan Africa, the attacks in Sub-Saharan africa has been far more devastating by magnitude."
      ],
      "metadata": {
        "id": "mZtgC_hjphqO"
      }
    },
    {
      "cell_type": "markdown",
      "source": [
        "##### 3. Will the gained insights help creating a positive business impact? \n",
        "Are there any insights that lead to negative growth? Justify with specific reason."
      ],
      "metadata": {
        "id": "rFu4xreNphqO"
      }
    },
    {
      "cell_type": "markdown",
      "source": [
        "No"
      ],
      "metadata": {
        "id": "ey_0qi68phqO"
      }
    },
    {
      "cell_type": "markdown",
      "source": [
        "#### Chart - 9\n",
        "\n",
        "Analyzing Target Types by Fatalities and Wounded"
      ],
      "metadata": {
        "id": "YJ55k-q6phqO"
      }
    },
    {
      "cell_type": "code",
      "source": [
        "# Chart - 9 visualization code\n",
        "df = gta_df.groupby(['targtype1_txt']).agg({'nkill': 'sum', 'nwound':'sum'}).reset_index()"
      ],
      "metadata": {
        "id": "B2aS4O1ophqO"
      },
      "execution_count": null,
      "outputs": []
    },
    {
      "cell_type": "code",
      "source": [
        "sns.set_style('darkgrid')\n",
        "fig, ax = plt.subplots(figsize = (14,10))\n",
        "\n",
        "sns.scatterplot(x = df['nwound'],y = df['nkill'], hue = df['targtype1_txt'], size= df['nkill'],sizes = (100,1000), palette= 'bright')\n",
        "plt.title(\" Target Type Analysis\")\n",
        "plt.xlabel(\"Number of Wounded\")\n",
        "plt.ylabel(\"Number of Fatalities\")"
      ],
      "metadata": {
        "id": "1RvY1Y3JiaFc"
      },
      "execution_count": null,
      "outputs": []
    },
    {
      "cell_type": "markdown",
      "source": [
        "##### 1. Why did you pick the specific chart?"
      ],
      "metadata": {
        "id": "gCFgpxoyphqP"
      }
    },
    {
      "cell_type": "markdown",
      "source": [
        "in an effort to demonstrate the degree to which one variable is influenced by another, scatter plots are used to plot data points on a horizontal and vertical axis. The values of the columns set on the X and Y axes determine the position of the marker that represents each row in the data table."
      ],
      "metadata": {
        "id": "TVxDimi2phqP"
      }
    },
    {
      "cell_type": "markdown",
      "source": [
        "##### 2. What is/are the insight(s) found from the chart?"
      ],
      "metadata": {
        "id": "OVtJsKN_phqQ"
      }
    },
    {
      "cell_type": "markdown",
      "source": [
        "From above chart we can say that the most targets are\n",
        "\n",
        "1) Educational institution\n",
        "\n",
        "2)Private citizen and properties\n",
        "\n",
        "3)Police"
      ],
      "metadata": {
        "id": "ngGi97qjphqQ"
      }
    },
    {
      "cell_type": "markdown",
      "source": [
        "##### 3. Will the gained insights help creating a positive business impact? \n",
        "Are there any insights that lead to negative growth? Justify with specific reason."
      ],
      "metadata": {
        "id": "lssrdh5qphqQ"
      }
    },
    {
      "cell_type": "markdown",
      "source": [
        "No"
      ],
      "metadata": {
        "id": "tBpY5ekJphqQ"
      }
    },
    {
      "cell_type": "markdown",
      "source": [
        "#### Chart - 10\n",
        "Visualizing the extent of the commonly perpetrated attacks in different regions of the country"
      ],
      "metadata": {
        "id": "U2RJ9gkRphqQ"
      }
    },
    {
      "cell_type": "code",
      "source": [
        "# Chart - 10 visualization code\n",
        "col= [ 'Bombing/Explosion','Armed Assault', 'Facility/Infrastructure Attack\t']"
      ],
      "metadata": {
        "id": "GM7a4YP4phqQ"
      },
      "execution_count": null,
      "outputs": []
    },
    {
      "cell_type": "code",
      "source": [
        "sns.set_style('darkgrid')\n",
        "fig, ax = plt.subplots(figsize = (16,9))\n",
        "sns.stripplot(x ='region_txt', y ='nkill', data = gta_df,hue='attacktype1_txt', hue_order= col,\n",
        "              palette=\"Set2\", \n",
        "              size=25, \n",
        "              marker=\"D\",\n",
        "              edgecolor=\"gray\", alpha=.10)\n",
        "\n",
        "plt.xticks(rotation=90)\n",
        "plt.title(\"Types of Attacks in Different Regions\")\n",
        "plt.ylabel('Number of Fatalities')\n",
        "plt.xlabel('Attack Type')"
      ],
      "metadata": {
        "id": "cPgRY5uF0k3J"
      },
      "execution_count": null,
      "outputs": []
    },
    {
      "cell_type": "markdown",
      "source": [
        "##### 1. Why did you pick the specific chart?"
      ],
      "metadata": {
        "id": "1M8mcRywphqQ"
      }
    },
    {
      "cell_type": "markdown",
      "source": [
        "A strip plot can be created on its own, but it also works well as an addition to a box or violin plot when you wish to display all observations along with an illustration of the distribution they are based on."
      ],
      "metadata": {
        "id": "8agQvks0phqQ"
      }
    },
    {
      "cell_type": "markdown",
      "source": [
        "##### 2. What is/are the insight(s) found from the chart?"
      ],
      "metadata": {
        "id": "tgIPom80phqQ"
      }
    },
    {
      "cell_type": "markdown",
      "source": [
        "#Armed Assault is a dominant type of attack in regions like\n",
        "\n",
        "1) Central America & Caribbean\n",
        "\n",
        "2) Sub-Saharan Africa and\n",
        "\n",
        "3) North America\n",
        "\n",
        "(presence of dense orange)\n",
        "\n",
        "#Bombings/Explosion is a dominant type of attack in regions like\n",
        "\n",
        "1) Middle East & North Africa\n",
        "\n",
        "2) South Asia and\n",
        "\n",
        "3) Eastern Europe\n",
        "\n",
        "(presence of dense green)"
      ],
      "metadata": {
        "id": "lg8PszzRY1Nd"
      }
    },
    {
      "cell_type": "markdown",
      "source": [
        "##### 3. Will the gained insights help creating a positive business impact? \n",
        "Are there any insights that lead to negative growth? Justify with specific reason."
      ],
      "metadata": {
        "id": "JMzcOPDDphqR"
      }
    },
    {
      "cell_type": "markdown",
      "source": [
        "No"
      ],
      "metadata": {
        "id": "R4Ka1PC2phqR"
      }
    },
    {
      "cell_type": "markdown",
      "source": [
        "#### Chart - 11\n",
        "Common Attacks Perpertrated on different Targets"
      ],
      "metadata": {
        "id": "x-EpHcCOp1ci"
      }
    },
    {
      "cell_type": "code",
      "source": [
        "# Chart - 11 visualization code\n",
        "sns.set_style('darkgrid')\n",
        "fig, ax = plt.subplots(figsize = (15,9))\n",
        "clms = ['Assassination', 'Bombing/Explosion', 'Facility/Infrastructure Attack']\n",
        "sns.barplot(x = 'targtype1_txt',y = 'nkill', hue ='attacktype1_txt' , hue_order = clms, data = gta_df, palette= 'bright', estimator = np.count_nonzero)\n",
        "plt.title(\" Target Type Analysis\")\n",
        "plt.xticks(rotation=90)\n",
        "plt.xlabel(\"Number of Wounded\")\n",
        "plt.ylabel(\"Number of Fatalities\")"
      ],
      "metadata": {
        "id": "mAQTIvtqp1cj"
      },
      "execution_count": null,
      "outputs": []
    },
    {
      "cell_type": "markdown",
      "source": [
        "##### 1. Why did you pick the specific chart?"
      ],
      "metadata": {
        "id": "X_VqEhTip1ck"
      }
    },
    {
      "cell_type": "markdown",
      "source": [
        "Using rectangular bars with heights proportionate to the values they represent, a bar chart or bar graph visualises categorical data."
      ],
      "metadata": {
        "id": "-vsMzt_np1ck"
      }
    },
    {
      "cell_type": "markdown",
      "source": [
        "##### 2. What is/are the insight(s) found from the chart?"
      ],
      "metadata": {
        "id": "8zGJKyg5p1ck"
      }
    },
    {
      "cell_type": "markdown",
      "source": [
        "The most common attacks are\n",
        "\n",
        "1)Assassination\n",
        "\n",
        "2)Bombing/Explosion\n",
        "\n",
        "3)Facilities and infrastucture attack\n",
        "\n",
        "Assassination is the most common type attack perpetrated on Government officials and Media Journalists.\n",
        "\n",
        "Bombings are frequently used to thwart Businesses and Religious Figures/Institutions"
      ],
      "metadata": {
        "id": "ZYdMsrqVp1ck"
      }
    },
    {
      "cell_type": "markdown",
      "source": [
        "##### 3. Will the gained insights help creating a positive business impact? \n",
        "Are there any insights that lead to negative growth? Justify with specific reason."
      ],
      "metadata": {
        "id": "PVzmfK_Ep1ck"
      }
    },
    {
      "cell_type": "markdown",
      "source": [
        "No"
      ],
      "metadata": {
        "id": "druuKYZpp1ck"
      }
    },
    {
      "cell_type": "markdown",
      "source": [
        "#### Chart - 12\n",
        "Most Notorious Terror Organisations"
      ],
      "metadata": {
        "id": "n3dbpmDWp1ck"
      }
    },
    {
      "cell_type": "code",
      "source": [
        "# Chart - 12 visualization code\n",
        "a = gta_df.groupby(['gname']).agg({'eventid':'count', 'nkill': 'sum'}).sort_values(['nkill', 'eventid'], ascending=False)\n",
        "top20 = a.drop('Unknown', axis=0).head(10).reset_index().copy()\n",
        "rest = a.iloc[11:,:].agg({'eventid':'count', 'nkill':'sum'}).copy()\n",
        "lst = rest.to_list()\n",
        "top20.loc[len(top20.index)] = ['Remaining 3217 Terrorist Organisations'] + lst\n",
        "trof = a.index[:10] #List of top 10 Terrorist organisations with Highest Fatlities\n"
      ],
      "metadata": {
        "id": "bwevp1tKp1ck"
      },
      "execution_count": null,
      "outputs": []
    },
    {
      "cell_type": "code",
      "source": [
        "plt.rcParams['figure.figsize'] = (10,10)\n",
        "top20.set_index('gname').plot(x= 'gname', y='nkill',kind='pie', legend=False,colors= sns.color_palette(palette = 'PiYG'),autopct='%1.1f%%')\n",
        "plt.yticks(rotation = 45)\n",
        "plt.title(\"\\n Top 10 Terrorist Organisations with highest Fatalities\")\n",
        "plt.ylabel(\"\")"
      ],
      "metadata": {
        "id": "y77snIbvnj1T"
      },
      "execution_count": null,
      "outputs": []
    },
    {
      "cell_type": "markdown",
      "source": [
        "##### 1. Why did you pick the specific chart?"
      ],
      "metadata": {
        "id": "ylSl6qgtp1ck"
      }
    },
    {
      "cell_type": "markdown",
      "source": [
        "Pie graphs display the proportional size of objects (referred to as wedges) inside a single data series. In a pie chart, the data points are shown as a percentage of the entire pie"
      ],
      "metadata": {
        "id": "m2xqNkiQp1ck"
      }
    },
    {
      "cell_type": "markdown",
      "source": [
        "##### 2. What is/are the insight(s) found from the chart?"
      ],
      "metadata": {
        "id": "ZWILFDl5p1ck"
      }
    },
    {
      "cell_type": "markdown",
      "source": [
        "Inference: The most notorious terrorist organisations are\n",
        "\n",
        "1) Taliban\n",
        "\n",
        "2) Boko Haram\n",
        "\n",
        "3) Islamic State of Iraq and the Levant (ISIL)\n",
        "\n",
        "4) Shining Path(SL)\n",
        "\n",
        "These organisations alone have contributed to more than one third of the total fatalities and almost 50% of the total attacks"
      ],
      "metadata": {
        "id": "x-lUsV2mp1ck"
      }
    },
    {
      "cell_type": "markdown",
      "source": [
        "##### 3. Will the gained insights help creating a positive business impact? \n",
        "Are there any insights that lead to negative growth? Justify with specific reason."
      ],
      "metadata": {
        "id": "M7G43BXep1ck"
      }
    },
    {
      "cell_type": "markdown",
      "source": [
        "No"
      ],
      "metadata": {
        "id": "5wwDJXsLp1cl"
      }
    },
    {
      "cell_type": "markdown",
      "source": [
        "#### Chart - 13\n",
        "Comparing Global Trends of terrorist attack per year with Regional Trends of terrorist attack per year"
      ],
      "metadata": {
        "id": "Ag9LCva-p1cl"
      }
    },
    {
      "cell_type": "code",
      "source": [
        "# Chart - 13 visualization code\n",
        "fig, ax = plt.subplots(figsize = (18,7))\n",
        "sns.lineplot(x='iyear', y='eventid',data= gta_df,hue = 'targtype1_txt',estimator= np.count_nonzero, palette= 'Dark2')\n",
        "plt.ylabel(\"No. of Attacks\")\n",
        "plt.title(\"Comparing REgional terrorist  Attack Trends\")\n",
        "plt.xlabel(\"Year\")"
      ],
      "metadata": {
        "id": "EUfxeq9-p1cl"
      },
      "execution_count": null,
      "outputs": []
    },
    {
      "cell_type": "markdown",
      "source": [
        "##### 1. Why did you pick the specific chart?"
      ],
      "metadata": {
        "id": "E6MkPsBcp1cl"
      }
    },
    {
      "cell_type": "markdown",
      "source": [
        "I chose linechart because it helps to get the most insightfull information about the data and represent the best data visualization report."
      ],
      "metadata": {
        "id": "V22bRsFWp1cl"
      }
    },
    {
      "cell_type": "markdown",
      "source": [
        "##### 2. What is/are the insight(s) found from the chart?"
      ],
      "metadata": {
        "id": "2cELzS2fp1cl"
      }
    },
    {
      "cell_type": "markdown",
      "source": [
        "By compairing regional terrorist attack we got to know that the most targettypes are\n",
        "\n",
        "1)Private citizen and Property\n",
        "\n",
        "2)Miltary\n",
        "\n",
        "3)Police"
      ],
      "metadata": {
        "id": "ozQPc2_Ip1cl"
      }
    },
    {
      "cell_type": "markdown",
      "source": [
        "##### 3. Will the gained insights help creating a positive business impact? \n",
        "Are there any insights that lead to negative growth? Justify with specific reason."
      ],
      "metadata": {
        "id": "3MPXvC8up1cl"
      }
    },
    {
      "cell_type": "markdown",
      "source": [
        "The negative impact shown from this chart is that the harm to the public property and to the private citizen "
      ],
      "metadata": {
        "id": "GL8l1tdLp1cl"
      }
    },
    {
      "cell_type": "markdown",
      "source": [
        "#### Chart - 14 - Correlation Heatmap"
      ],
      "metadata": {
        "id": "NC_X3p0fY2L0"
      }
    },
    {
      "cell_type": "code",
      "source": [
        "# Correlation Heatmap visualization code\n",
        "clms = ['attacktype1_txt','targtype1_txt', 'weaptype1_txt', 'suicide'] \n",
        "ohdf = gta_df.copy()"
      ],
      "metadata": {
        "id": "xyC9zolEZNRQ"
      },
      "execution_count": null,
      "outputs": []
    },
    {
      "cell_type": "code",
      "source": [
        "ohdf.loc[:, :]"
      ],
      "metadata": {
        "id": "hW6bsG3pbq7_"
      },
      "execution_count": null,
      "outputs": []
    },
    {
      "cell_type": "code",
      "source": [
        "corrdf = ohdf.iloc[:,].corr()\n",
        "plt.figure(figsize=(40,30))\n",
        "sns.heatmap(corrdf,square = True,vmin=-1, vmax=1, annot=True)"
      ],
      "metadata": {
        "id": "qk8TeOnYdP5w"
      },
      "execution_count": null,
      "outputs": []
    },
    {
      "cell_type": "markdown",
      "source": [
        "##### 1. Why did you pick the specific chart?"
      ],
      "metadata": {
        "id": "UV0SzAkaZNRQ"
      }
    },
    {
      "cell_type": "markdown",
      "source": [
        "Heatmaps can be used to understand the relationship between the variables / features in data .They provide color-coded pattern in a table of integers and floating points values . Heatmaps can take a matrix of numerical values and create a chart that uses color contrast to show the relationship between the variables."
      ],
      "metadata": {
        "id": "DVPuT8LYZNRQ"
      }
    },
    {
      "cell_type": "markdown",
      "source": [
        "##### 2. What is/are the insight(s) found from the chart?"
      ],
      "metadata": {
        "id": "YPEH6qLeZNRQ"
      }
    },
    {
      "cell_type": "markdown",
      "source": [
        "We observe positive correlation between weapons and types of attacks\n",
        "\n",
        "Use of Explosives and Bombings/Explosions (0.91)\n",
        "\n",
        "Use of Firearms and Armed Assault (0.68)\n",
        "\n",
        "Use of Incendiary and Facility/Infrastructure Attack(0.71)"
      ],
      "metadata": {
        "id": "bfSqtnDqZNRR"
      }
    },
    {
      "cell_type": "markdown",
      "source": [
        "#### Chart - 15 - Pair Plot "
      ],
      "metadata": {
        "id": "q29F0dvdveiT"
      }
    },
    {
      "cell_type": "code",
      "source": [
        "# Pair Plot visualization code"
      ],
      "metadata": {
        "id": "o58-TEIhveiU"
      },
      "execution_count": null,
      "outputs": []
    },
    {
      "cell_type": "markdown",
      "source": [
        "##### 1. Why did you pick the specific chart?"
      ],
      "metadata": {
        "id": "EXh0U9oCveiU"
      }
    },
    {
      "cell_type": "markdown",
      "source": [
        "Answer Here."
      ],
      "metadata": {
        "id": "eMmPjTByveiU"
      }
    },
    {
      "cell_type": "markdown",
      "source": [
        "##### 2. What is/are the insight(s) found from the chart?"
      ],
      "metadata": {
        "id": "22aHeOlLveiV"
      }
    },
    {
      "cell_type": "markdown",
      "source": [
        "Answer Here"
      ],
      "metadata": {
        "id": "uPQ8RGwHveiV"
      }
    },
    {
      "cell_type": "markdown",
      "source": [
        "## **5. Solution to Business Objective**"
      ],
      "metadata": {
        "id": "JcMwzZxoAimU"
      }
    },
    {
      "cell_type": "markdown",
      "source": [
        "#### What do you suggest the client to achieve Business Objective ? \n",
        "Explain Briefly."
      ],
      "metadata": {
        "id": "8G2x9gOozGDZ"
      }
    },
    {
      "cell_type": "markdown",
      "source": [
        "Advantages of EDA \n",
        "\n",
        "Data visualization is an important component of Exploratory Data Analysis (EDA) because it allows a data analyst to “look at” their data and get to know the variables and relationships between them."
      ],
      "metadata": {
        "id": "pASKb0qOza21"
      }
    },
    {
      "cell_type": "markdown",
      "source": [
        "# **Conclusion**"
      ],
      "metadata": {
        "id": "gCX9965dhzqZ"
      }
    },
    {
      "cell_type": "markdown",
      "source": [
        "Write the conclusion here."
      ],
      "metadata": {
        "id": "Fjb1IsQkh3yE"
      }
    },
    {
      "cell_type": "markdown",
      "source": [
        "### ***Hurrah! You have successfully completed your EDA Capstone Project !!!***"
      ],
      "metadata": {
        "id": "gIfDvo9L0UH2"
      }
    }
  ]
}